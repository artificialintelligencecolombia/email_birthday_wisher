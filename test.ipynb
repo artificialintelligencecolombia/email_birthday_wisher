{
 "cells": [
  {
   "cell_type": "code",
   "execution_count": null,
   "metadata": {},
   "outputs": [],
   "source": [
    "import datetime as dt\n",
    "import pandas as pd\n",
    "import smtplib"
   ]
  },
  {
   "cell_type": "code",
   "execution_count": null,
   "metadata": {},
   "outputs": [],
   "source": [
    "def open_file(file):\n",
    "    return pd.read_csv(file)\n",
    "\n",
    "df = open_file('contacts.csv')\n",
    "print(df)"
   ]
  },
  {
   "cell_type": "code",
   "execution_count": null,
   "metadata": {},
   "outputs": [],
   "source": [
    "def send_email(to_email, name):\n",
    "    email = 'oil@gmail.com'\n",
    "    password = 'rfip iquo fdri dpyn' # Add Password\n",
    "\n",
    "    with smtplib.SMTP('smtp.gmail.com') as connection:\n",
    "        connection.starttls()\n",
    "        connection.login(user=email, password=password)\n",
    "    \n",
    "        # Send email with subject and body content to specified recipient\n",
    "        connection.sendmail(\n",
    "            from_addr=email, \n",
    "            to_addrs=to_email, \n",
    "            msg=f\"Subject:Fuck\\n\\nHappy birthday {name}\"\n",
    "            )"
   ]
  },
  {
   "cell_type": "code",
   "execution_count": null,
   "metadata": {},
   "outputs": [],
   "source": [
    "def check_birthdays(df):\n",
    "    today = dt.datetime.now()\n",
    "    for _, row in df.iterrows():\n",
    "        \n",
    "        if row['month'] == today.month and row['day'] == today.day:\n",
    "            try:\n",
    "                send_email(row['email'], row['name'])\n",
    "            except Exception as e:\n",
    "                print(f'Error sending email to {row['name']}: {e}')        "
   ]
  },
  {
   "cell_type": "code",
   "execution_count": null,
   "metadata": {},
   "outputs": [],
   "source": [
    "import random\n",
    "\n",
    "def pick_letter():\n",
    "    rdm = random.choice([1,2,3])\n",
    "    \n",
    "    try: \n",
    "        with open(f'./letter_templates/letter_{rdm}.txt') as f:\n",
    "            return f.read()\n",
    "    except Exception as e:\n",
    "        print('Error opening the letter template: {e}')\n",
    "  "
   ]
  },
  {
   "cell_type": "code",
   "execution_count": 38,
   "metadata": {},
   "outputs": [
    {
     "name": "stdout",
     "output_type": "stream",
     "text": [
      "Dear [NAME],\n",
      "\n",
      "Happy birthday!\n",
      "\n",
      "All the best for the year!\n",
      "\n",
      "Angela 1\n"
     ]
    }
   ],
   "source": [
    "pick_letter()"
   ]
  },
  {
   "cell_type": "code",
   "execution_count": null,
   "metadata": {},
   "outputs": [],
   "source": []
  }
 ],
 "metadata": {
  "kernelspec": {
   "display_name": "Python 3",
   "language": "python",
   "name": "python3"
  },
  "language_info": {
   "codemirror_mode": {
    "name": "ipython",
    "version": 3
   },
   "file_extension": ".py",
   "mimetype": "text/x-python",
   "name": "python",
   "nbconvert_exporter": "python",
   "pygments_lexer": "ipython3",
   "version": "3.12.3"
  }
 },
 "nbformat": 4,
 "nbformat_minor": 2
}
