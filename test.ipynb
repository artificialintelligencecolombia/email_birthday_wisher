{
 "cells": [
  {
   "cell_type": "code",
   "execution_count": null,
   "metadata": {},
   "outputs": [],
   "source": []
  },
  {
   "cell_type": "code",
   "execution_count": 1,
   "metadata": {},
   "outputs": [],
   "source": [
    "import datetime as dt\n",
    "import pandas as pd\n",
    "import smtplib\n",
    "import random"
   ]
  },
  {
   "cell_type": "code",
   "execution_count": 2,
   "metadata": {},
   "outputs": [],
   "source": [
    "def open_file(file):\n",
    "    return pd.read_csv(file)"
   ]
  },
  {
   "cell_type": "code",
   "execution_count": null,
   "metadata": {},
   "outputs": [],
   "source": [
    "def send_email(to_email, name):\n",
    "    email = 'oil@gmail.com'\n",
    "    password = 'rfip iquo fdri dpyn' # Add Password\n",
    "    \n",
    "    letter = pick_letter(name)\n",
    "\n",
    "    with smtplib.SMTP('smtp.gmail.com') as connection:\n",
    "        connection.starttls()\n",
    "        connection.login(user=email, password=password)\n",
    "    \n",
    "        # Send email with subject and body content to specified recipient\n",
    "        connection.sendmail(\n",
    "            from_addr=email, \n",
    "            to_addrs=to_email, \n",
    "            msg=f\"Subject:Happy birthday\\n\\n{letter}\"\n",
    "            )"
   ]
  },
  {
   "cell_type": "code",
   "execution_count": 4,
   "metadata": {},
   "outputs": [],
   "source": [
    "def pick_letter(name):\n",
    "    rdm = random.randint(1,3)\n",
    "    \n",
    "    try: \n",
    "        with open(f'./letter_templates/letter_{rdm}.txt') as f:\n",
    "            letter_template = f.read()\n",
    "            return letter_template.replace(\"[NAME]\", name)\n",
    "    except Exception as e:\n",
    "        print('Error opening the letter template: {e}')\n",
    "  "
   ]
  },
  {
   "cell_type": "code",
   "execution_count": 5,
   "metadata": {},
   "outputs": [],
   "source": [
    "def main():\n",
    "    today = dt.datetime.now()\n",
    "    df = open_file('contacts.csv')\n",
    "    \n",
    "    for _, row in df.iterrows():\n",
    "        \n",
    "        if row['month'] == today.month and row['day'] == today.day:\n",
    "            try:\n",
    "                send_email(row['email'], row['name'])\n",
    "            except Exception as e:\n",
    "                print(f'Error sending email to {row['name']}: {e}')        "
   ]
  },
  {
   "cell_type": "code",
   "execution_count": 6,
   "metadata": {},
   "outputs": [],
   "source": [
    "main()"
   ]
  },
  {
   "cell_type": "code",
   "execution_count": null,
   "metadata": {},
   "outputs": [],
   "source": []
  }
 ],
 "metadata": {
  "kernelspec": {
   "display_name": "Python 3",
   "language": "python",
   "name": "python3"
  },
  "language_info": {
   "codemirror_mode": {
    "name": "ipython",
    "version": 3
   },
   "file_extension": ".py",
   "mimetype": "text/x-python",
   "name": "python",
   "nbconvert_exporter": "python",
   "pygments_lexer": "ipython3",
   "version": "3.12.3"
  }
 },
 "nbformat": 4,
 "nbformat_minor": 2
}
