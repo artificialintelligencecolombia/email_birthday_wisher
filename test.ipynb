{
 "cells": [
  {
   "cell_type": "code",
   "execution_count": 7,
   "metadata": {},
   "outputs": [],
   "source": [
    "import datetime as dt\n",
    "import pandas as pd"
   ]
  },
  {
   "cell_type": "code",
   "execution_count": 8,
   "metadata": {},
   "outputs": [
    {
     "name": "stdout",
     "output_type": "stream",
     "text": [
      "(11, 30, 2024)\n",
      "<class 'tuple'>\n"
     ]
    }
   ],
   "source": [
    "def get_date():\n",
    "    now = dt.datetime.now() # Prints the current datetime\n",
    "    return now.month, now.day, now.year # [0, 1, 2, 3, 4, 5, 6]\n",
    "\n",
    "today = get_date()\n",
    "print(today)\n",
    "print(type(today))"
   ]
  },
  {
   "cell_type": "code",
   "execution_count": 17,
   "metadata": {},
   "outputs": [
    {
     "name": "stdout",
     "output_type": "stream",
     "text": [
      "      name           email  year  month  day  year.1\n",
      "0     Test  test@email.com  1961     12   21    2000\n",
      "1    Sarah  test@email.com  1985     11   30    2001\n",
      "2    James  test@email.com  1992     12    1    1998\n",
      "3    Elena  test@email.com  1978     12    2    1894\n",
      "4  Michael  test@email.com  1995      7   15    1975\n",
      "5     Lisa  test@email.com  1982     12    3    1962\n",
      "6    David  test@email.com  1990      9    4    1984\n",
      "7    Maria  test@email.com  1988      5   17    1958\n",
      "8   Robert  test@email.com  1973      8    8    1992\n",
      "9     Anna  test@email.com  1998      4   12    1309\n"
     ]
    }
   ],
   "source": [
    "def open_file(file):\n",
    "    return pd.read_csv(file)\n",
    "\n",
    "df = open_file('contacts.csv')\n",
    "print(df)"
   ]
  },
  {
   "cell_type": "code",
   "execution_count": null,
   "metadata": {},
   "outputs": [
    {
     "name": "stdout",
     "output_type": "stream",
     "text": [
      "name\n",
      "email\n",
      "year\n",
      "month\n",
      "day\n",
      "year.1\n"
     ]
    }
   ],
   "source": []
  },
  {
   "cell_type": "code",
   "execution_count": 21,
   "metadata": {},
   "outputs": [
    {
     "name": "stdout",
     "output_type": "stream",
     "text": [
      "iguales\n"
     ]
    }
   ],
   "source": [
    "tuple1 = today\n",
    "tuple2 = (11,30,2024)\n",
    "\n",
    "if tuple1 == tuple2:\n",
    "    print('iguales')\n",
    "else:\n",
    "    print('different')"
   ]
  },
  {
   "cell_type": "code",
   "execution_count": null,
   "metadata": {},
   "outputs": [],
   "source": []
  }
 ],
 "metadata": {
  "kernelspec": {
   "display_name": "Python 3",
   "language": "python",
   "name": "python3"
  },
  "language_info": {
   "codemirror_mode": {
    "name": "ipython",
    "version": 3
   },
   "file_extension": ".py",
   "mimetype": "text/x-python",
   "name": "python",
   "nbconvert_exporter": "python",
   "pygments_lexer": "ipython3",
   "version": "3.12.3"
  }
 },
 "nbformat": 4,
 "nbformat_minor": 2
}
