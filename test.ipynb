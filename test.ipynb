{
 "cells": [
  {
   "cell_type": "code",
   "execution_count": 23,
   "metadata": {},
   "outputs": [],
   "source": [
    "import datetime as dt\n",
    "import pandas as pd\n",
    "import smtplib"
   ]
  },
  {
   "cell_type": "code",
   "execution_count": 2,
   "metadata": {},
   "outputs": [
    {
     "name": "stdout",
     "output_type": "stream",
     "text": [
      "(12, 1, 2024)\n",
      "<class 'tuple'>\n"
     ]
    }
   ],
   "source": [
    "def get_date():\n",
    "    now = dt.datetime.now() # Prints the current datetime\n",
    "    return now.month, now.day, now.year # [0, 1, 2, 3, 4, 5, 6]\n",
    "\n",
    "today = get_date()\n",
    "print(today)\n",
    "print(type(today))"
   ]
  },
  {
   "cell_type": "code",
   "execution_count": 3,
   "metadata": {},
   "outputs": [
    {
     "name": "stdout",
     "output_type": "stream",
     "text": [
      "      name           email  year  month  day  year.1\n",
      "0     Test  test@email.com  1961     12   21    2000\n",
      "1    Sarah  test@email.com  1985     11   30    2001\n",
      "2    James  test@email.com  1992     12    1    1998\n",
      "3    Elena  test@email.com  1978     12    2    1894\n",
      "4  Michael  test@email.com  1995      7   15    1975\n",
      "5     Lisa  test@email.com  1982     12    3    1962\n",
      "6    David  test@email.com  1990      9    4    1984\n",
      "7    Maria  test@email.com  1988      5   17    1958\n",
      "8   Robert  test@email.com  1973      8    8    1992\n",
      "9     Anna  test@email.com  1998      4   12    1309\n"
     ]
    }
   ],
   "source": [
    "def open_file(file):\n",
    "    return pd.read_csv(file)\n",
    "\n",
    "df = open_file('contacts.csv')\n",
    "print(df)"
   ]
  },
  {
   "cell_type": "code",
   "execution_count": 22,
   "metadata": {},
   "outputs": [
    {
     "name": "stdout",
     "output_type": "stream",
     "text": [
      "Send email to James\n"
     ]
    }
   ],
   "source": [
    "for (index, row) in df.iterrows():\n",
    "    month = row['month']\n",
    "    day = row['day']\n",
    "    year = row['year']\n",
    "    name = row['name']\n",
    "    if today[0] == month and today[1] == day:\n",
    "        print(f'Send email to {name}')\n",
    "    "
   ]
  },
  {
   "cell_type": "code",
   "execution_count": null,
   "metadata": {},
   "outputs": [],
   "source": [
    "email = 'oil@gmail.com'\n",
    "to_email = '991@gmail.com'\n",
    "password = 'rfip iquo fdri dpyn' # Add Password\n",
    "\n",
    "with smtplib.SMTP('smtp.gmail.com') as connection:\n",
    "    connection.starttls()\n",
    "    connection.login(user=email, password=password)\n",
    "    \n",
    "    # Send email with subject and body content to specified recipient\n",
    "    connection.sendmail(\n",
    "        from_addr=email, \n",
    "        to_addrs=to_email, \n",
    "        msg=\"Subject:Fuck\\n\\nBody of the hello email\"\n",
    "        )"
   ]
  },
  {
   "cell_type": "code",
   "execution_count": 21,
   "metadata": {},
   "outputs": [
    {
     "name": "stdout",
     "output_type": "stream",
     "text": [
      "iguales\n"
     ]
    }
   ],
   "source": [
    "tuple1 = today\n",
    "tuple2 = (11,30,2024)\n",
    "\n",
    "if tuple1 == tuple2:\n",
    "    print('iguales')\n",
    "else:\n",
    "    print('different')"
   ]
  }
 ],
 "metadata": {
  "kernelspec": {
   "display_name": "Python 3",
   "language": "python",
   "name": "python3"
  },
  "language_info": {
   "codemirror_mode": {
    "name": "ipython",
    "version": 3
   },
   "file_extension": ".py",
   "mimetype": "text/x-python",
   "name": "python",
   "nbconvert_exporter": "python",
   "pygments_lexer": "ipython3",
   "version": "3.12.3"
  }
 },
 "nbformat": 4,
 "nbformat_minor": 2
}
